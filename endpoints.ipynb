{
 "cells": [
  {
   "cell_type": "code",
   "execution_count": 30,
   "metadata": {},
   "outputs": [],
   "source": [
    "import requests\n",
    "from dotenv import load_dotenv\n",
    "import os"
   ]
  },
  {
   "cell_type": "code",
   "execution_count": 40,
   "metadata": {},
   "outputs": [
    {
     "name": "stdout",
     "output_type": "stream",
     "text": [
      "Requisição realizada com sucesso!\n"
     ]
    }
   ],
   "source": [
    "# Carregar variáveis de ambiente do arquivo .env\n",
    "load_dotenv()\n",
    "\n",
    "api_key = os.getenv('API_KEY')\n",
    "\n",
    "if not api_key:\n",
    "    raise ValueError(\"Chave da API não encontrada.\")\n",
    "\n",
    "url = \"https://api.olhovivo.sptrans.com.br/v2.1\"\n",
    "headers = {\"Authorization\": f\"Bearer {api_key}\"}\n",
    "response = requests.get(url, headers=headers)\n",
    "\n",
    "if response.status_code == 200:\n",
    "    print('Requisição realizada com sucesso!')\n",
    "else:\n",
    "    print(f\"Erro na requisição: {response.status_code}\")\n",
    "    \n",
    "# Autenticação\n",
    "auth_url = f'https://api.olhovivo.sptrans.com.br/v2.1/Login/Autenticar?token={api_key}'\n",
    "auth_headers = {'Content-Type': 'application/x-www-form-urlencoded'}\n"
   ]
  }
 ],
 "metadata": {
  "kernelspec": {
   "display_name": "venv",
   "language": "python",
   "name": "python3"
  },
  "language_info": {
   "codemirror_mode": {
    "name": "ipython",
    "version": 3
   },
   "file_extension": ".py",
   "mimetype": "text/x-python",
   "name": "python",
   "nbconvert_exporter": "python",
   "pygments_lexer": "ipython3",
   "version": "3.12.4"
  }
 },
 "nbformat": 4,
 "nbformat_minor": 2
}
